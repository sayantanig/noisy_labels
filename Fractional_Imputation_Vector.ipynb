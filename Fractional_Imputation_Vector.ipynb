{
  "cells": [
    {
      "cell_type": "markdown",
      "metadata": {
        "id": "view-in-github",
        "colab_type": "text"
      },
      "source": [
        "<a href=\"https://colab.research.google.com/github/sayantanig/noisy_labels/blob/master/Fractional_Imputation_Vector.ipynb\" target=\"_parent\"><img src=\"https://colab.research.google.com/assets/colab-badge.svg\" alt=\"Open In Colab\"/></a>"
      ]
    },
    {
      "cell_type": "code",
      "execution_count": null,
      "metadata": {
        "id": "zEzxiY0_JWDi"
      },
      "outputs": [],
      "source": [
        "import numpy as np\n",
        "from numpy.random import default_rng\n",
        "\n",
        "import pandas as pd\n",
        "\n",
        "import torch\n",
        "import torch.nn as nn\n",
        "\n",
        "from random import sample\n",
        "from random import random\n",
        "\n",
        "from sklearn.linear_model import LogisticRegression\n",
        "from sklearn.naive_bayes import GaussianNB\n",
        "from sklearn.ensemble import RandomForestClassifier, AdaBoostClassifier\n",
        "from sklearn.tree import DecisionTreeClassifier\n",
        "from sklearn.discriminant_analysis import QuadraticDiscriminantAnalysis as QDA\n",
        "from sklearn.neighbors import KNeighborsClassifier\n",
        "from sklearn.neural_network import MLPClassifier\n",
        "from sklearn.svm import SVC\n",
        "from sklearn.preprocessing import LabelEncoder\n",
        "from sklearn.model_selection import train_test_split\n",
        "from sklearn import metrics\n",
        "\n",
        "import matplotlib.pyplot as plt\n",
        "\n",
        "import math"
      ]
    },
    {
      "cell_type": "code",
      "source": [
        "# Global variables\n",
        "\n",
        "trainX = 0\n",
        "trainY = 0\n",
        "n=500\n",
        "num_labels = 2\n",
        "numY = 2\n",
        "delta = 0"
      ],
      "metadata": {
        "id": "GRk7nAxAFWTs"
      },
      "execution_count": null,
      "outputs": []
    },
    {
      "cell_type": "code",
      "source": [
        "# Generating datasets\n",
        "\n",
        "def generate(n):\n",
        "  trainX = np.random.choice([1,2,3,4], n, p=[0.3,0.25,0.25,0.2])\n",
        "  # trainX\n",
        "\n",
        "  trainY=[]\n",
        "  for i in trainX:\n",
        "    if i==1:\n",
        "      y1=np.random.choice([0,1], 1, p=[0.6,0.4])[0]\n",
        "      y2_p=(0.8+y1)/2\n",
        "    elif i==2:\n",
        "      y1=np.random.choice([0,1], 1, p=[0.7,0.3])[0]\n",
        "      y2_p=0.8*y1+0.1\n",
        "    elif i==3:\n",
        "      y1=np.random.choice([0,1], 1, p=[0.6,0.4])[0]\n",
        "      y2_p=0.9-0.5*y1\n",
        "    else:\n",
        "      y1=np.random.choice([0,1], 1, p=[0.2,0.8])[0]\n",
        "      y2_p=0.6\n",
        "    y2=np.random.choice([0,1], 1, p=[1-y2_p,y2_p])[0]\n",
        "    trainY.append([y1,y2])\n",
        "  # trainY\n",
        "\n",
        "  return (trainX, trainY)"
      ],
      "metadata": {
        "id": "Q-DA33_4wTlz"
      },
      "execution_count": null,
      "outputs": []
    },
    {
      "cell_type": "code",
      "source": [
        "# Generate delta\n",
        "\n",
        "def delta_func():\n",
        "  delta=[[0]*numY for i in range(n)]\n",
        "  \n",
        "  for i in range(n):\n",
        "    for j in range(numY):\n",
        "      delta[i][0]=np.random.choice([0,1], 1, p=[0.2,0.8])[0]\n",
        "      delta[i][1]=np.random.choice([0,1], 1, p=[0.3,0.7])[0]\n",
        "  \n",
        "  return delta"
      ],
      "metadata": {
        "id": "fImKyWjcKDB7"
      },
      "execution_count": null,
      "outputs": []
    },
    {
      "cell_type": "code",
      "source": [
        "# Full sample estimator\n",
        "\n",
        "def fs_estimator():\n",
        "  theta_fs = [0 for i in range(numY)]\n",
        "  \n",
        "  for j in range(numY):\n",
        "    for i in trainY:\n",
        "      theta_fs[j] += i[j]\n",
        "    theta_fs[j]/= n\n",
        "\n",
        "  # print(\"Full sample estimator: \",theta_fs)\n",
        "  \n",
        "  return theta_fs"
      ],
      "metadata": {
        "id": "a9cJBqQAuB9d"
      },
      "execution_count": null,
      "outputs": []
    },
    {
      "cell_type": "code",
      "source": [
        "# Complete case estimator\n",
        "\n",
        "def cc_estimator():\n",
        "  theta_cc = [0 for i in range(numY)]\n",
        "  n_y = [0 for i in range(numY)] \n",
        "\n",
        "  for j in range(numY):\n",
        "    for i in range(n):\n",
        "      theta_cc[j] += trainY[i][j] * delta[i][j]\n",
        "      n_y[j] += delta[i][j]\n",
        "    theta_cc[j] /= n_y[j]\n",
        "\n",
        "  # print(\"Complete case estimator: \",theta_cc)\n",
        "\n",
        "  return theta_cc"
      ],
      "metadata": {
        "id": "U454icjSvHGt"
      },
      "execution_count": null,
      "outputs": []
    },
    {
      "cell_type": "code",
      "source": [
        "def reduce_mult(a,b):\n",
        "  # a:missing pattern index, b:label index\n",
        "  num=0\n",
        "  p=0\n",
        "  while(a!=0):\n",
        "    dgt_a=a%2\n",
        "    a=a//2\n",
        "    dgt_b=b%num_labels\n",
        "    b=b//num_labels\n",
        "    num+=dgt_a*dgt_b*pow(num_labels, p)\n",
        "    p+=1\n",
        "  return num"
      ],
      "metadata": {
        "id": "HogQlcOCpoLT"
      },
      "execution_count": null,
      "outputs": []
    },
    {
      "cell_type": "code",
      "source": [
        "def pi_plus_update(pi_est):\n",
        "  pi_plus = [[0 for i in range(pow(num_labels, numY))] for j in range(pow(2, numY))]\n",
        "  \n",
        "  for i in range(pow(2,numY)):\n",
        "    for j in range(pow(num_labels,numY)):\n",
        "      pi_plus[i][reduce_mult(i,j)] += pi_est[j]\n",
        "  \n",
        "  return pi_plus"
      ],
      "metadata": {
        "id": "Uo_RRZV4gkgM"
      },
      "execution_count": null,
      "outputs": []
    },
    {
      "cell_type": "code",
      "source": [
        "def n_update(pi_est, pi_plus_est, n_plus):\n",
        "  n_new = [[0 for i in range(pow(num_labels, numY))] for j in range(pow(2, numY))]\n",
        "\n",
        "  for i in range(pow(2,numY)):\n",
        "    for j in range(pow(num_labels,numY)):\n",
        "      n_new[i][j]=n_plus[i][reduce_mult(i,j)]*(pi_est[j]/pi_plus_est[i][reduce_mult(i,j)])\n",
        "\n",
        "  return n_new"
      ],
      "metadata": {
        "id": "kybaPS47fku3"
      },
      "execution_count": null,
      "outputs": []
    },
    {
      "cell_type": "code",
      "source": [
        "def pi_update(pi_est, n_est, n_curr):\n",
        "  error_max=0\n",
        "  pi_new = [0 for i in range(pow(num_labels, numY))]\n",
        "\n",
        "  for i in range(pow(2, numY)):\n",
        "    for j in range(pow(num_labels, numY)):\n",
        "      pi_new[j]+=n_est[i][j]\n",
        "\n",
        "  for j in range(pow(num_labels, numY)):\n",
        "    pi_new[j] /= n_curr\n",
        "    error_max=max(error_max, abs(pi_est[j]-pi_new[j]))\n",
        "\n",
        "  return (pi_new, error_max)"
      ],
      "metadata": {
        "id": "4CNvmXw1f0dW"
      },
      "execution_count": null,
      "outputs": []
    },
    {
      "cell_type": "code",
      "source": [
        "def em_alg(trainY_curr):\n",
        "  \n",
        "  n_curr = len(trainY_curr)\n",
        "\n",
        "  # S = [[] for i in range(pow(2, numY))]\n",
        "  # for i in range(n_curr):\n",
        "  #   st = \"\"\n",
        "  #   for j in range(numY):\n",
        "  #     st += str(delta[i][j])\n",
        "  #   S[int(st,2)].append(i)\n",
        "\n",
        "# Probably useless block of code\n",
        "  n_labels = [[0 for i in range(pow(num_labels, numY))] for j in range(pow(2, numY))]\n",
        "  for i in range(n_curr):\n",
        "    st_row = \"\"\n",
        "    st_col = \"\"\n",
        "    for j in range(numY):\n",
        "      st_row += str(delta[i][j])\n",
        "      st_col += str(trainY_curr[i][j])\n",
        "    n_labels[int(st_row, 2)][int(st_col, num_labels)] += 1\n",
        "#--------------------------------\n",
        "\n",
        "  n_plus = [[0 for i in range(pow(num_labels, numY))] for j in range(pow(2, numY))]\n",
        "  for i in range(n_curr):\n",
        "    st_row = \"\"\n",
        "    st_col = \"\"\n",
        "    for j in range(numY):\n",
        "      st_row += str(delta[i][j])\n",
        "      st_col += str(trainY_curr[i][j]*delta[i][j])\n",
        "    n_plus[int(st_row, 2)][int(st_col, num_labels)] += 1\n",
        "\n",
        "  pi_est = [1/pow(num_labels, numY) for i in range(pow(num_labels, numY))]\n",
        "  error_curr = 1\n",
        "  stop_eps = 0.00001\n",
        "\n",
        "  while(error_curr > stop_eps):\n",
        "    pi_plus_est = pi_plus_update(pi_est)\n",
        "    n_est =  n_update(pi_est, pi_plus_est, n_plus)\n",
        "    (pi_est, error_curr) = pi_update(pi_est, n_est, n_curr)\n",
        "\n",
        "  return pi_est"
      ],
      "metadata": {
        "id": "ivoOshCEgopi"
      },
      "execution_count": null,
      "outputs": []
    },
    {
      "cell_type": "code",
      "source": [
        "# Fractional imputation estimator\n",
        "\n",
        "def fi_estimator():\n",
        "  trainY_arr = [[],[],[],[]]\n",
        "  w_est = [0, 0, 0, 0]\n",
        "\n",
        "  for i in range(n):\n",
        "    trainY_arr[trainX[i]-1].append(trainY[i])\n",
        "  # print(trainY_arr)\n",
        "  for i in range(4):\n",
        "    w_est[i] = em_alg(trainY_arr[i])\n",
        "  # print(w_est)\n",
        "  \n",
        "  theta_fi = [0 for i in range(numY)]\n",
        "  for z in range(numY):\n",
        "    for i in range(n):\n",
        "      w_curr=0\n",
        "      for j in range(pow(num_labels, numY)):\n",
        "        w_curr += w_est[trainX[i]-1][j] * ((j//pow(num_labels,numY-z-1))%num_labels) #extracting (z+1)th digit\n",
        "      theta_fi[z] += delta[i][z]*trainY[i][z] + (1-delta[i][z])*w_curr\n",
        "    theta_fi[z]/=n\n",
        "  return theta_fi"
      ],
      "metadata": {
        "id": "zi0LFaFhCBwY"
      },
      "execution_count": null,
      "outputs": []
    },
    {
      "cell_type": "code",
      "source": [
        "# theta_fs = [0 for i in range(numY)]\n",
        "# theta_cc = [0 for i in range(numY)]\n",
        "# theta_fi = [0 for i in range(numY)]\n",
        "\n",
        "theta_fs, theta_cc, theta_fi = [], [], []\n",
        "\n",
        "B=1000\n",
        "\n",
        "# delta = delta_func()\n",
        "# while (min(np.sum(np.array(delta), axis=0))==0):\n",
        "#   delta = delta_func()\n",
        "  \n",
        "# (trainX, trainY) = generate(n)\n",
        "\n",
        "for i in range(B):\n",
        "  delta = delta_func()\n",
        "  if min(np.sum(np.array(delta), axis=0))==0:\n",
        "    continue\n",
        "  \n",
        "  (trainX, trainY) = generate(n)\n",
        "\n",
        "  theta_fs.append(fs_estimator())\n",
        "  theta_cc.append(cc_estimator())\n",
        "  theta_fi.append(fi_estimator())"
      ],
      "metadata": {
        "id": "KCgdoHGL6sxN"
      },
      "execution_count": null,
      "outputs": []
    },
    {
      "cell_type": "code",
      "source": [
        "fs_mean = np.mean(np.array(theta_fs), axis=0)\n",
        "cc_mean = np.mean(np.array(theta_cc), axis=0)\n",
        "fi_mean = np.mean(np.array(theta_fi), axis=0)\n",
        "fs_var = np.var(np.array(theta_fs), axis=0)\n",
        "cc_var = np.var(np.array(theta_cc), axis=0)\n",
        "fi_var = np.var(np.array(theta_fi), axis=0)\n",
        "\n",
        "# print(\"Full sample estimator mean: \", fs_mean)\n",
        "# print(\"Complete case estimator mean: \", cc_mean)\n",
        "# print(\"Fractional Imputation estimator mean: \", fi_mean)\n",
        "# print()\n",
        "# print(\"Full sample estimator variance: \", fs_var)\n",
        "# print(\"Complete case estimator variance: \", cc_var)\n",
        "# print(\"Fractional Imputation estimator variance: \", fi_var)"
      ],
      "metadata": {
        "id": "iW7b10-YiLHG"
      },
      "execution_count": null,
      "outputs": []
    },
    {
      "cell_type": "code",
      "source": [
        "# Import module\n",
        "from tabulate import tabulate\n",
        " \n",
        "# Assign data\n",
        "mydata = [\n",
        "    [\"Full Sample\", fs_mean, fs_var],\n",
        "    [\"Complete Case\", cc_mean, cc_var],\n",
        "    # [\"Fractional Imputation\", fi_mean, fi_var],\n",
        "]\n",
        " \n",
        "# Create header\n",
        "head = [\"Estimator\", \"Mean\", \"Variance\"]\n",
        " \n",
        "# Display table\n",
        "print(tabulate(mydata, headers=head, tablefmt=\"grid\"))"
      ],
      "metadata": {
        "id": "oLYSTNrt7Blv"
      },
      "execution_count": null,
      "outputs": []
    }
  ],
  "metadata": {
    "colab": {
      "provenance": [],
      "include_colab_link": true
    },
    "kernelspec": {
      "display_name": "Python 3",
      "name": "python3"
    },
    "language_info": {
      "name": "python"
    }
  },
  "nbformat": 4,
  "nbformat_minor": 0
}